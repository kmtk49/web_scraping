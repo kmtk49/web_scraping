{
 "cells": [
  {
   "cell_type": "code",
   "execution_count": 1,
   "metadata": {
    "scrolled": true
   },
   "outputs": [
    {
     "name": "stdout",
     "output_type": "stream",
     "text": [
      "                                              Answers  \\\n",
      "0   A：染色体には人間の設計図にあたる遺伝子が集まっています。人の体は、顕微鏡でやっと見えるほど...   \n",
      "1   A：染色体には、人間の体の設計図にあたる遺伝情報があります。「染色体異常」とは、設計図に大き...   \n",
      "2   A：染色体の数が46本より多くても少なくても染色体の異常となります。数の変化の代表的なものに...   \n",
      "3   A：ダウン症候群の赤ちゃんの妊娠は、母親の年齢の上昇に伴って高くなることが知られています。こ...   \n",
      "4   A：羊水を採取して赤ちゃんの染色体を調べる検査です。赤ちゃんは羊水の中に浮いているので、羊水...   \n",
      "5   A：羊水染色体検査と同様の方法で、羊水を採取し羊水中に含まれるAFP濃度を測定する検査です。...   \n",
      "6   A：トリプルマーカーテストは、血液中の3つの成分（AFP, hCG, uE3）を測定して確率...   \n",
      "7   A：双胎妊娠の妊婦さんにも、クアトロテストを受けていただくことができます。ただし、双胎妊娠の...   \n",
      "8   測定値には人種差があります。日本人の妊婦さんの場合には、日本人データを使って確率を計算します...   \n",
      "9                            A：お問合せより、その旨をお問い合わせください。   \n",
      "10  A：羊水染色体検査をお受けになられるかどうかは、クアトロテストの結果が同じ確率であったとして...   \n",
      "\n",
      "                                            Questions  \n",
      "0                                           Ｑ１．染色体とは？  \n",
      "1                                         Ｑ２．染色体異常とは？  \n",
      "2                                      Ｑ３．染色体の数の変化とは？  \n",
      "3                  Ｑ４．母親の年齢とダウン症候群の赤ちゃんの妊娠には関係がありますか？  \n",
      "4                                      Ｑ５．羊水染色体検査とは？   \n",
      "5                  Ｑ６．羊水中のアルファフェトプロテイン（AFP）を測定する検査とは？  \n",
      "6                   Ｑ７. トリプルマーカーテストとクアトロテストとの違いは何ですか？  \n",
      "7                    Ｑ８． 双胎妊娠の場合もクアトロテストを受けることはできますか？  \n",
      "8   Ｑ９. クアトロテストの確率の算出には、4つの血液成分以外にも様々な因子を考慮すると聞きまし...  \n",
      "9   Ｑ１０.クアトロテストを受けることを考えています。 クアトロテストを実施している病院はわかり...  \n",
      "10  Ｑ１１. クアトロテストを受けましたが、羊水染色体検査を受けるかどうか迷っています。判断の基...  \n"
     ]
    }
   ],
   "source": [
    "# -*- coding: utf-8 -*- https://qiita.com/tomokas/items/c00ca0a232d3502ee6c9\n",
    "# afp4 afp4QA chromQA poc　用語解説　5ファイル　が取得できた\n",
    "\n",
    "import requests\n",
    "from bs4 import BeautifulSoup\n",
    "import pandas as pd\n",
    "\n",
    "response = requests.get('http://www.labcorp.co.jp/general/quattro01-faq.html')\n",
    "soup = BeautifulSoup(response.content, 'html.parser')\n",
    "newslist = soup.find('div', class_='temp')\n",
    "tags = newslist.find_all('div', class_='group-box')\n",
    "\n",
    "articles = []\n",
    "for tag in tags:\n",
    "    Questions = tag.h4.text\n",
    "    Answers = tag.p.text\n",
    "\n",
    "    article = {\n",
    "        'Questions': Questions,\n",
    "        'Answers': Answers\n",
    "    }\n",
    "\n",
    "    articles.append(article)\n",
    "\n",
    "df = pd.DataFrame(articles)  # 辞書をDataFrameに変換\n",
    "print(df)\n",
    "df.to_csv('news.csv')"
   ]
  },
  {
   "cell_type": "code",
   "execution_count": null,
   "metadata": {},
   "outputs": [],
   "source": []
  }
 ],
 "metadata": {
  "kernelspec": {
   "display_name": "Python 3",
   "language": "python",
   "name": "python3"
  },
  "language_info": {
   "codemirror_mode": {
    "name": "ipython",
    "version": 3
   },
   "file_extension": ".py",
   "mimetype": "text/x-python",
   "name": "python",
   "nbconvert_exporter": "python",
   "pygments_lexer": "ipython3",
   "version": "3.6.8"
  }
 },
 "nbformat": 4,
 "nbformat_minor": 2
}
