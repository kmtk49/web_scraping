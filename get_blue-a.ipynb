{
 "cells": [
  {
   "cell_type": "code",
   "execution_count": 6,
   "metadata": {},
   "outputs": [
    {
     "name": "stdout",
     "output_type": "stream",
     "text": [
      "[<p class=\"margine\"><span class=\"blue-a\">A：</span>染色体には人間の設計図にあたる遺伝子が集まっています。人の体は、顕微鏡でやっと見えるほどの小さな細胞が集まってできており、それぞれの細胞が染色体というものを46本持っています。下の図のように、精子と卵子が受精することにより、赤ちゃんは染色体をそれぞれ23本ずつ受け継ぎます。 したがって、人は、下の図のような2本1組となった染色体を23組、合計46本を持つことになります。</p>, <p class=\"margine center\"><img height=\"197\" src=\"../images/general/01/jp_pat_Genetics_AFP4_QandA-1.gif\" width=\"134\"/></p>, <p class=\"margine\">男性も女性も46本の染色体を持っていますが、そのうちＸおよびＹと呼ばれる染色体「性染色体」は男女で異なります。このように、体をつくる情報である遺伝子が集まっている染色体が、両親から子どもへと伝わることにより、子どもは父親と母親の形質を受け継ぐことになります。</p>]\n"
     ]
    }
   ],
   "source": [
    "#https://qiita.com/aocattleya/items/2eab8ad744d9a28fb9ce\n",
    "import requests\n",
    "from bs4 import BeautifulSoup\n",
    "import urllib.request\n",
    "\n",
    "url = 'http://www.labcorp.co.jp/general/quattro01-faq.html'\n",
    "html = urllib.request.urlopen(url)\n",
    "\n",
    "soup = BeautifulSoup(html, \"html.parser\")\n",
    "print(soup.find_all('p',class_='margine'))\n",
    "\n",
    "#result = soup.find(\"p\", attrs={\"class\", \"margine\"}).get_text()\n",
    "\n",
    "#print(result)"
   ]
  },
  {
   "cell_type": "code",
   "execution_count": null,
   "metadata": {},
   "outputs": [],
   "source": []
  }
 ],
 "metadata": {
  "kernelspec": {
   "display_name": "Python 3",
   "language": "python",
   "name": "python3"
  },
  "language_info": {
   "codemirror_mode": {
    "name": "ipython",
    "version": 3
   },
   "file_extension": ".py",
   "mimetype": "text/x-python",
   "name": "python",
   "nbconvert_exporter": "python",
   "pygments_lexer": "ipython3",
   "version": "3.6.8"
  }
 },
 "nbformat": 4,
 "nbformat_minor": 2
}
